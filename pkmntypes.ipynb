{
 "cells": [
  {
   "cell_type": "code",
   "execution_count": 1,
   "metadata": {
    "collapsed": true
   },
   "outputs": [],
   "source": [
    "import itertools\n",
    "import numpy as np\n",
    "import pulp"
   ]
  },
  {
   "cell_type": "code",
   "execution_count": 2,
   "metadata": {
    "collapsed": true
   },
   "outputs": [],
   "source": [
    "order = ['Normal', 'Fire', 'Water', 'Electric', 'Grass', 'Ice', 'Fighting', 'Poison', 'Ground', 'Flying', 'Psychic', 'Bug', 'Rock', 'Ghost', 'Dragon', 'Dark', 'Steel', 'Fairy']"
   ]
  },
  {
   "cell_type": "code",
   "execution_count": 3,
   "metadata": {
    "collapsed": true
   },
   "outputs": [],
   "source": [
    "weaknesses = {\n",
    "    'Normal': [1, 1, 1, 1, 1, 1, 2, 1, 1, 1, 1, 1, 1, 0, 1, 1, 1, 1],\n",
    "    'Fire': [1, 0.5, 2, 1, 0.5, 0.5, 1, 1, 2, 1, 1, 0.5, 2, 1, 1, 1, 0.5, 0.5],\n",
    "    'Water': [1, 0.5, 0.5, 2, 2, 0.5, 1, 1, 1, 1, 1, 1, 1, 1, 1, 1, 0.5, 1],\n",
    "    'Electric': [1, 1, 1, 0.5, 1, 1, 1, 1, 2, 0.5, 1, 1, 1, 1, 1, 1, 0.5, 1],\n",
    "    'Grass': [1, 2, 0.5, 0.5, 0.5, 2, 1, 2, 0.5, 2, 1, 2, 1, 1, 1, 1, 1, 1],\n",
    "    'Ice': [1, 2, 1, 1, 1, 0.5, 2, 1, 1, 1, 1, 1, 2, 1, 1, 1, 2, 1],\n",
    "    'Fighting': [1, 1, 1, 1, 1, 1, 1, 1, 1, 2, 2, 0.5, 0.5, 1, 1, 0.5, 1, 2],\n",
    "    'Poison': [1, 1, 1, 1, 0.5, 1, 0.5, 0.5, 2, 1, 2, 0.5, 1, 1, 1, 1, 1, 0.5],\n",
    "    'Ground': [1, 1, 2, 0, 2, 2, 1, 0.5, 1, 1, 1, 1, 0.5, 1, 1, 1, 1, 1],\n",
    "    'Flying': [1, 1, 1, 2, 0.5, 2, 0.5, 1, 0, 1, 1, 0.5, 2, 1, 1, 1, 1, 1],\n",
    "    'Psychic': [1, 1, 1, 1, 1, 1, 0.5, 1, 1, 1, 0.5, 2, 1, 2, 1, 2, 1, 1],\n",
    "    'Bug': [1, 2, 1, 1, 0.5, 1, 0.5, 1, 0.5, 2, 1, 1, 2, 1, 1, 1, 1, 1],\n",
    "    'Rock': [0.5, 0.5, 2, 1, 2, 1, 2, 0.5, 2, 0.5, 1, 1, 1, 1, 1, 1, 2, 1],\n",
    "    'Ghost': [0, 1, 1, 1, 1, 1, 0, 0.5, 1, 1, 1, 0.5, 1, 2, 1, 2, 1, 1],\n",
    "    'Dragon': [1, 0.5, 0.5, 0.5, 0.5, 2, 1, 1, 1, 1, 1, 1, 1, 1, 2, 1, 1, 2],\n",
    "    'Dark': [1, 1, 1, 1, 1, 1, 2, 1, 1, 1, 0, 2, 1, 0.5, 1, 0.5, 1, 2],\n",
    "    'Steel': [0.5, 2, 1, 1, 0.5, 0.5, 2, 0, 2, 0.5, 0.5, 0.5, 0.5, 1, 0.5, 1, 0.5, 0.5],\n",
    "    'Fairy': [1, 1, 1, 1, 1, 1, 0.5, 2, 1, 1, 1, 0.5, 1, 1, 0, 0.5, 2, 1]\n",
    "}"
   ]
  },
  {
   "cell_type": "code",
   "execution_count": 4,
   "metadata": {
    "collapsed": true
   },
   "outputs": [],
   "source": [
    "# https://pokemondb.net/type/unused\n",
    "unused = {\n",
    "    ('Normal', 'Ice'),\n",
    "    ('Normal', 'Rock'),\n",
    "    ('Fire', 'Grass'),\n",
    "    ('Electric', 'Fighting'),\n",
    "    ('Ice', 'Poison'),\n",
    "    ('Fighting', 'Fairy'),\n",
    "    ('Poison', 'Fairy'),\n",
    "    ('Bug', 'Dragon'),\n",
    "    ('Dark', 'Fairy'),\n",
    "    ('Normal', 'Poison'),\n",
    "    ('Normal', 'Ghost'),\n",
    "    ('Fire', 'Ice'),\n",
    "    ('Electric', 'Poison'),\n",
    "    ('Ice', 'Bug'),\n",
    "    ('Poison', 'Psychic'),\n",
    "    ('Ground', 'Fairy'),\n",
    "    ('Bug', 'Dark'),\n",
    "    ('Normal', 'Bug'),\n",
    "    ('Normal', 'Steel'),\n",
    "    ('Fire', 'Fairy'),\n",
    "    ('Electric', 'Dark'),\n",
    "    ('Fighting', 'Ground'),\n",
    "    ('Poison', 'Steel'),\n",
    "    ('Psychic', 'Bug'),\n",
    "    ('Rock', 'Ghost'),\n",
    "    'Flying',\n",
    "    ('Electric', 'Dragon'),\n",
    "    ('Fighting', 'Ghost'),\n",
    "    ('Ghost', 'Dragon'),\n",
    "    ('Fire', 'Water'),\n",
    "    ('Ice', 'Dragon'),\n",
    "    ('Psychic', 'Ghost'),\n",
    "    ('Dragon', 'Steel'),\n",
    "    ('Fire', 'Steel'),\n",
    "    ('Fighting', 'Rock'),\n",
    "    ('Psychic', 'Dragon'),\n",
    "    ('Electric', 'Dragon'),\n",
    "    ('Psychic', 'Dragon'),\n",
    "    ('Dragon', 'Fairy')\n",
    "}"
   ]
  },
  {
   "cell_type": "code",
   "execution_count": 5,
   "metadata": {
    "collapsed": true
   },
   "outputs": [],
   "source": [
    "pair_order = order[:]\n",
    "for pair in itertools.combinations(order, 2):\n",
    "    if pair not in unused:\n",
    "        first = pair[0]\n",
    "        second = pair[1]\n",
    "        first_vector = np.array(weaknesses[first])\n",
    "        second_vector = np.array(weaknesses[second])\n",
    "        pair_vector = first_vector * second_vector\n",
    "        weaknesses[pair] = list(pair_vector)\n",
    "        pair_order.append(pair)"
   ]
  },
  {
   "cell_type": "code",
   "execution_count": 6,
   "metadata": {
    "collapsed": true
   },
   "outputs": [],
   "source": [
    "immune = [min([weaknesses[pair][i] for pair in weaknesses.keys()]) == 0 for i in range(18)]\n",
    "can_immune = [[1 if weaknesses[pair][t] == 0 else 0 for t in range(len(order))] for pair in pair_order]\n",
    "can_resist = [[1 if (weaknesses[pair][t] == 0.5 or weaknesses[pair][t] == 0.25) else 0 for t in range(len(order))] for pair in pair_order]\n",
    "\n",
    "# Objectives\n",
    "weak = [sum([1 if w > 1 else 0 for w in weaknesses[pair]]) for pair in pair_order]\n",
    "superweak = [sum([1 if w == 4 else 0 for w in weaknesses[pair]]) for pair in pair_order]\n",
    "resist = [sum([1 if w < 1 else 0 for w in weaknesses[pair]]) for pair in pair_order]\n",
    "superresist = [sum([w if w == 0.25 else 0 for w in weaknesses[pair]]) for pair in pair_order]\n",
    "total = [sum(weaknesses[pair]) for pair in pair_order]"
   ]
  },
  {
   "cell_type": "markdown",
   "metadata": {},
   "source": [
    "# 1. Min weak"
   ]
  },
  {
   "cell_type": "code",
   "execution_count": 7,
   "metadata": {},
   "outputs": [
    {
     "data": {
      "text/plain": [
       "1"
      ]
     },
     "execution_count": 7,
     "metadata": {},
     "output_type": "execute_result"
    }
   ],
   "source": [
    "prob = pulp.LpProblem(\"PokemonTypeCombos\", pulp.LpMinimize)\n",
    "x = pulp.LpVariable.dicts(\"x\", range(len(pair_order)), cat=pulp.LpBinary)\n",
    "objective_function = sum([weak[t] * x[t] for t in range(len(pair_order))])\n",
    "prob += objective_function\n",
    "prob += sum([x[t] for t in range(len(pair_order))]) == 6\n",
    "for tp in range(len(order)):\n",
    "    if immune[tp]:\n",
    "        prob += sum([can_immune[pair][tp] * x[pair] for pair in range(len(pair_order))]) >= 1\n",
    "        prob += sum([can_resist[pair][tp] * x[pair] for pair in range(len(pair_order))]) >= 1\n",
    "    else:\n",
    "        prob += sum([can_resist[pair][tp] * x[pair] for pair in range(len(pair_order))]) >= 2\n",
    "prob.solve()"
   ]
  },
  {
   "cell_type": "code",
   "execution_count": 8,
   "metadata": {},
   "outputs": [
    {
     "name": "stdout",
     "output_type": "stream",
     "text": [
      "Normal\n",
      "('Fire', 'Ground')\n",
      "('Water', 'Flying')\n",
      "('Grass', 'Ghost')\n",
      "('Dark', 'Steel')\n",
      "('Steel', 'Fairy')\n"
     ]
    }
   ],
   "source": [
    "for i in range(len(pair_order)):\n",
    "    if x[i].value() > 0:\n",
    "        print(pair_order[i])"
   ]
  },
  {
   "cell_type": "markdown",
   "metadata": {},
   "source": [
    "# 2. Min superweak"
   ]
  },
  {
   "cell_type": "code",
   "execution_count": 9,
   "metadata": {},
   "outputs": [
    {
     "data": {
      "text/plain": [
       "1"
      ]
     },
     "execution_count": 9,
     "metadata": {},
     "output_type": "execute_result"
    }
   ],
   "source": [
    "prob = pulp.LpProblem(\"PokemonTypeCombos\", pulp.LpMinimize)\n",
    "x = pulp.LpVariable.dicts(\"x\", range(len(pair_order)), cat=pulp.LpBinary)\n",
    "objective_function = sum([superweak[t] * x[t] for t in range(len(pair_order))])\n",
    "prob += objective_function\n",
    "prob += sum([x[t] for t in range(len(pair_order))]) == 6\n",
    "for tp in range(len(order)):\n",
    "    if immune[tp]:\n",
    "        prob += sum([can_immune[pair][tp] * x[pair] for pair in range(len(pair_order))]) >= 1\n",
    "        prob += sum([can_resist[pair][tp] * x[pair] for pair in range(len(pair_order))]) >= 1\n",
    "    else:\n",
    "        prob += sum([can_resist[pair][tp] * x[pair] for pair in range(len(pair_order))]) >= 2\n",
    "prob.solve()"
   ]
  },
  {
   "cell_type": "code",
   "execution_count": 10,
   "metadata": {},
   "outputs": [
    {
     "name": "stdout",
     "output_type": "stream",
     "text": [
      "('Normal', 'Grass')\n",
      "('Fire', 'Ghost')\n",
      "('Water', 'Fairy')\n",
      "('Ground', 'Dark')\n",
      "('Flying', 'Steel')\n",
      "('Psychic', 'Steel')\n"
     ]
    }
   ],
   "source": [
    "for i in range(len(pair_order)):\n",
    "    if x[i].value() > 0:\n",
    "        print(pair_order[i])"
   ]
  },
  {
   "cell_type": "markdown",
   "metadata": {},
   "source": [
    "# 3. Max resist"
   ]
  },
  {
   "cell_type": "code",
   "execution_count": 11,
   "metadata": {},
   "outputs": [
    {
     "data": {
      "text/plain": [
       "1"
      ]
     },
     "execution_count": 11,
     "metadata": {},
     "output_type": "execute_result"
    }
   ],
   "source": [
    "prob = pulp.LpProblem(\"PokemonTypeCombos\", pulp.LpMaximize)\n",
    "x = pulp.LpVariable.dicts(\"x\", range(len(pair_order)), cat=pulp.LpBinary)\n",
    "objective_function = sum([resist[t] * x[t] for t in range(len(pair_order))])\n",
    "prob += objective_function\n",
    "prob += sum([x[t] for t in range(len(pair_order))]) == 6\n",
    "for tp in range(len(order)):\n",
    "    if immune[tp]:\n",
    "        prob += sum([can_immune[pair][tp] * x[pair] for pair in range(len(pair_order))]) >= 1\n",
    "        prob += sum([can_resist[pair][tp] * x[pair] for pair in range(len(pair_order))]) >= 1\n",
    "    else:\n",
    "        prob += sum([can_resist[pair][tp] * x[pair] for pair in range(len(pair_order))]) >= 2\n",
    "prob.solve()"
   ]
  },
  {
   "cell_type": "code",
   "execution_count": 12,
   "metadata": {},
   "outputs": [
    {
     "name": "stdout",
     "output_type": "stream",
     "text": [
      "('Normal', 'Fire')\n",
      "('Water', 'Ghost')\n",
      "('Grass', 'Fairy')\n",
      "('Ground', 'Steel')\n",
      "('Flying', 'Steel')\n",
      "('Dark', 'Steel')\n"
     ]
    }
   ],
   "source": [
    "for i in range(len(pair_order)):\n",
    "    if x[i].value() > 0:\n",
    "        print(pair_order[i])"
   ]
  },
  {
   "cell_type": "markdown",
   "metadata": {},
   "source": [
    "# 4. Max superresist"
   ]
  },
  {
   "cell_type": "code",
   "execution_count": 13,
   "metadata": {},
   "outputs": [
    {
     "data": {
      "text/plain": [
       "1"
      ]
     },
     "execution_count": 13,
     "metadata": {},
     "output_type": "execute_result"
    }
   ],
   "source": [
    "prob = pulp.LpProblem(\"PokemonTypeCombos\", pulp.LpMaximize)\n",
    "x = pulp.LpVariable.dicts(\"x\", range(len(pair_order)), cat=pulp.LpBinary)\n",
    "objective_function = sum([superresist[t] * x[t] for t in range(len(pair_order))])\n",
    "prob += objective_function\n",
    "prob += sum([x[t] for t in range(len(pair_order))]) == 6\n",
    "for tp in range(len(order)):\n",
    "    if immune[tp]:\n",
    "        prob += sum([can_immune[pair][tp] * x[pair] for pair in range(len(pair_order))]) >= 1\n",
    "        prob += sum([can_resist[pair][tp] * x[pair] for pair in range(len(pair_order))]) >= 1\n",
    "    else:\n",
    "        prob += sum([can_resist[pair][tp] * x[pair] for pair in range(len(pair_order))]) >= 2\n",
    "prob.solve()"
   ]
  },
  {
   "cell_type": "code",
   "execution_count": 14,
   "metadata": {},
   "outputs": [
    {
     "name": "stdout",
     "output_type": "stream",
     "text": [
      "('Normal', 'Ground')\n",
      "('Fire', 'Ghost')\n",
      "('Water', 'Steel')\n",
      "('Grass', 'Dragon')\n",
      "('Flying', 'Fairy')\n",
      "('Rock', 'Dark')\n"
     ]
    }
   ],
   "source": [
    "for i in range(len(pair_order)):\n",
    "    if x[i].value() > 0:\n",
    "        print(pair_order[i])"
   ]
  },
  {
   "cell_type": "markdown",
   "metadata": {},
   "source": [
    "# 5. Min total\n",
    "### (At least 1 immunity, at least 1 resistance)"
   ]
  },
  {
   "cell_type": "code",
   "execution_count": 15,
   "metadata": {},
   "outputs": [
    {
     "data": {
      "text/plain": [
       "1"
      ]
     },
     "execution_count": 15,
     "metadata": {},
     "output_type": "execute_result"
    }
   ],
   "source": [
    "prob = pulp.LpProblem(\"PokemonTypeCombos\", pulp.LpMinimize)\n",
    "x = pulp.LpVariable.dicts(\"x\", range(len(pair_order)), cat=pulp.LpBinary)\n",
    "objective_function = sum([total[t] * x[t] for t in range(len(pair_order))])\n",
    "prob += objective_function\n",
    "prob += sum([x[t] for t in range(len(pair_order))]) == 6\n",
    "for tp in range(len(order)):\n",
    "    if immune[tp]:\n",
    "        prob += sum([can_immune[pair][tp] * x[pair] for pair in range(len(pair_order))]) >= 1\n",
    "        prob += sum([can_resist[pair][tp] * x[pair] for pair in range(len(pair_order))]) >= 1\n",
    "    else:\n",
    "        prob += sum([can_resist[pair][tp] * x[pair] for pair in range(len(pair_order))]) >= 2\n",
    "prob.solve()"
   ]
  },
  {
   "cell_type": "code",
   "execution_count": 16,
   "metadata": {},
   "outputs": [
    {
     "name": "stdout",
     "output_type": "stream",
     "text": [
      "('Normal', 'Dragon')\n",
      "('Water', 'Dark')\n",
      "('Ground', 'Bug')\n",
      "('Flying', 'Steel')\n",
      "('Ghost', 'Steel')\n",
      "('Steel', 'Fairy')\n"
     ]
    }
   ],
   "source": [
    "for i in range(len(pair_order)):\n",
    "    if x[i].value() > 0:\n",
    "        print(pair_order[i])"
   ]
  }
 ],
 "metadata": {
  "kernelspec": {
   "display_name": "Python 3",
   "language": "python",
   "name": "python3"
  },
  "language_info": {
   "codemirror_mode": {
    "name": "ipython",
    "version": 3
   },
   "file_extension": ".py",
   "mimetype": "text/x-python",
   "name": "python",
   "nbconvert_exporter": "python",
   "pygments_lexer": "ipython3",
   "version": "3.5.1"
  }
 },
 "nbformat": 4,
 "nbformat_minor": 2
}
